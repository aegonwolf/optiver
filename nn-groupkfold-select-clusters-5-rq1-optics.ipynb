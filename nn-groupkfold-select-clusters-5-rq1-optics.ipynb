{
 "cells": [
  {
   "cell_type": "code",
   "execution_count": 1,
   "id": "970c2aed",
   "metadata": {
    "_cell_guid": "b1076dfc-b9ad-4769-8c92-a6c4dae69d19",
    "_uuid": "8f2839f25d086af736a60e9eeb907d3b93b6e0e5",
    "execution": {
     "iopub.execute_input": "2022-03-16T17:25:35.903616Z",
     "iopub.status.busy": "2022-03-16T17:25:35.902670Z",
     "iopub.status.idle": "2022-03-16T17:25:36.933273Z",
     "shell.execute_reply": "2022-03-16T17:25:36.932474Z",
     "shell.execute_reply.started": "2021-09-18T09:25:46.980602Z"
    },
    "papermill": {
     "duration": 1.060474,
     "end_time": "2022-03-16T17:25:36.933465",
     "exception": false,
     "start_time": "2022-03-16T17:25:35.872991",
     "status": "completed"
    },
    "tags": []
   },
   "outputs": [],
   "source": [
    "from IPython.core.display import display, HTML\n",
    "from scipy.special import gamma\n",
    "import pandas as pd\n",
    "import numpy as np # linear algebra\n",
    "import pandas as pd # data processing, CSV file I/O (e.g. pd.read_csv)\n",
    "import glob\n",
    "import os\n",
    "import gc\n",
    "\n",
    "from joblib import Parallel, delayed\n",
    "\n",
    "from sklearn.preprocessing import MinMaxScaler\n",
    "from sklearn.preprocessing import QuantileTransformer\n",
    "from sklearn.metrics import r2_score\n",
    "\n",
    "import matplotlib.pyplot as plt \n",
    "import seaborn as sns\n",
    "import numpy.matlib\n",
    "\n",
    "\n",
    "path_submissions = '/'\n",
    "\n",
    "target_name = 'target'\n",
    "scores_folds = {}"
   ]
  },
  {
   "cell_type": "code",
   "execution_count": 2,
   "id": "7ac35d55",
   "metadata": {
    "execution": {
     "iopub.execute_input": "2022-03-16T17:25:36.980072Z",
     "iopub.status.busy": "2022-03-16T17:25:36.979157Z",
     "iopub.status.idle": "2022-03-16T17:25:36.982252Z",
     "shell.execute_reply": "2022-03-16T17:25:36.981686Z",
     "shell.execute_reply.started": "2021-09-18T09:25:48.206949Z"
    },
    "papermill": {
     "duration": 0.027684,
     "end_time": "2022-03-16T17:25:36.982390",
     "exception": false,
     "start_time": "2022-03-16T17:25:36.954706",
     "status": "completed"
    },
    "tags": []
   },
   "outputs": [],
   "source": [
    "epsilon = np.finfo(np.float32).eps"
   ]
  },
  {
   "cell_type": "code",
   "execution_count": 3,
   "id": "9c345ed0",
   "metadata": {
    "execution": {
     "iopub.execute_input": "2022-03-16T17:25:37.028611Z",
     "iopub.status.busy": "2022-03-16T17:25:37.027665Z",
     "iopub.status.idle": "2022-03-16T17:25:37.030563Z",
     "shell.execute_reply": "2022-03-16T17:25:37.030054Z",
     "shell.execute_reply.started": "2021-09-18T09:25:48.213204Z"
    },
    "papermill": {
     "duration": 0.028431,
     "end_time": "2022-03-16T17:25:37.030699",
     "exception": false,
     "start_time": "2022-03-16T17:25:37.002268",
     "status": "completed"
    },
    "tags": []
   },
   "outputs": [],
   "source": [
    "def num_positive(series):\n",
    "    return (series > 0).sum()\n",
    "\n",
    "def num_negative(series):\n",
    "    return (series < 0).sum()\n",
    "\n",
    "def pos_neg_ratio(series):\n",
    "    if num_negative(series) == 0:\n",
    "        return num_positive(series)\n",
    "    else:\n",
    "        return num_positive(series) / num_negative(series)"
   ]
  },
  {
   "cell_type": "code",
   "execution_count": 4,
   "id": "e18841ce",
   "metadata": {
    "execution": {
     "iopub.execute_input": "2022-03-16T17:25:37.079766Z",
     "iopub.status.busy": "2022-03-16T17:25:37.078903Z",
     "iopub.status.idle": "2022-03-16T17:25:37.081419Z",
     "shell.execute_reply": "2022-03-16T17:25:37.082024Z",
     "shell.execute_reply.started": "2021-09-18T09:25:48.226084Z"
    },
    "papermill": {
     "duration": 0.031216,
     "end_time": "2022-03-16T17:25:37.082173",
     "exception": false,
     "start_time": "2022-03-16T17:25:37.050957",
     "status": "completed"
    },
    "tags": []
   },
   "outputs": [],
   "source": [
    "def realized_quarticity(series):\n",
    "    return np.sum(series**4)*series.shape[0]/3\n",
    "\n",
    "def realized_quadpower_quarticity(series):\n",
    "    series = abs(series.rolling(window=4).apply(np.product, raw=True))\n",
    "    return (np.sum(series) * series.shape[0] * (np.pi**2))/4\n",
    "\n",
    "from scipy.special import gamma\n",
    "def realized_tripower_quarticity(series):\n",
    "    series = series ** (4/3)\n",
    "    series = abs(series).rolling(window=3).apply(np.prod, raw=True)\n",
    "    return series.shape[0]*0.25*((gamma(1/2)**3)/(gamma(7/6)**3))*np.sum(series)"
   ]
  },
  {
   "cell_type": "code",
   "execution_count": 5,
   "id": "270c177d",
   "metadata": {
    "execution": {
     "iopub.execute_input": "2022-03-16T17:25:37.124973Z",
     "iopub.status.busy": "2022-03-16T17:25:37.124395Z",
     "iopub.status.idle": "2022-03-16T17:25:37.132086Z",
     "shell.execute_reply": "2022-03-16T17:25:37.132549Z",
     "shell.execute_reply.started": "2021-09-18T09:25:48.237639Z"
    },
    "papermill": {
     "duration": 0.030098,
     "end_time": "2022-03-16T17:25:37.132706",
     "exception": false,
     "start_time": "2022-03-16T17:25:37.102608",
     "status": "completed"
    },
    "tags": []
   },
   "outputs": [],
   "source": [
    "def realized_1(series):\n",
    "    return np.sqrt(np.sum(series**4)/(6*np.sum(series**2)))\n",
    "\n",
    "def realized_2(series):\n",
    "    return np.sqrt(((np.pi**2)*np.sum(abs(series.rolling(window=4).apply(np.product, raw=True))))/(8*np.sum(series**2)))\n",
    "\n",
    "def realized_3(series):\n",
    "    numerator = (gamma(1/2)**3)*np.sum((abs(series)**(4/3)).rolling(window=3).apply(np.prod))\n",
    "    denominator = 8 * (gamma(7/6)**3)*np.sum(series**2)\n",
    "    return np.sqrt(numerator/denominator)"
   ]
  },
  {
   "cell_type": "code",
   "execution_count": 6,
   "id": "ed54d62f",
   "metadata": {
    "execution": {
     "iopub.execute_input": "2022-03-16T17:25:37.181916Z",
     "iopub.status.busy": "2022-03-16T17:25:37.176397Z",
     "iopub.status.idle": "2022-03-16T17:25:37.246448Z",
     "shell.execute_reply": "2022-03-16T17:25:37.245905Z",
     "shell.execute_reply.started": "2021-09-18T09:25:48.249896Z"
    },
    "papermill": {
     "duration": 0.093999,
     "end_time": "2022-03-16T17:25:37.246589",
     "exception": false,
     "start_time": "2022-03-16T17:25:37.152590",
     "status": "completed"
    },
    "tags": []
   },
   "outputs": [],
   "source": [
    "# data directory\n",
    "data_dir = '../input/optiver-realized-volatility-prediction/'\n",
    "\n",
    "# Function to calculate first WAP\n",
    "def calc_wap1(df):\n",
    "    wap = (df['bid_price1'] * df['ask_size1'] + df['ask_price1'] * df['bid_size1']) / (df['bid_size1'] + df['ask_size1'])\n",
    "    return wap\n",
    "\n",
    "# Function to calculate second WAP\n",
    "def calc_wap2(df):\n",
    "    wap = (df['bid_price2'] * df['ask_size2'] + df['ask_price2'] * df['bid_size2']) / (df['bid_size2'] + df['ask_size2'])\n",
    "    return wap\n",
    "\n",
    "def calc_wap3(df):\n",
    "    wap = (df['bid_price1'] * df['bid_size1'] + df['ask_price1'] * df['ask_size1']) / (df['bid_size1'] + df['ask_size1'])\n",
    "    return wap\n",
    "\n",
    "def calc_wap4(df):\n",
    "    wap = (df['bid_price2'] * df['bid_size2'] + df['ask_price2'] * df['ask_size2']) / (df['bid_size2'] + df['ask_size2'])\n",
    "    return wap\n",
    "\n",
    "# Function to calculate the log of the return\n",
    "# Remember that logb(x / y) = logb(x) - logb(y)\n",
    "def log_return(series):\n",
    "    return np.log(series).diff()\n",
    "\n",
    "# Calculate the realized volatility\n",
    "def realized_volatility(series):\n",
    "    return np.sqrt(np.sum(series**2))\n",
    "\n",
    "# Function to count unique elements of a series\n",
    "def count_unique(series):\n",
    "    return len(np.unique(series))\n",
    "\n",
    "# Function to read our base train and test set\n",
    "def read_train_test():\n",
    "    train = pd.read_csv('../input/optiver-realized-volatility-prediction/train.csv')\n",
    "    test = pd.read_csv('../input/optiver-realized-volatility-prediction/test.csv')\n",
    "    # Create a key to merge with book and trade data\n",
    "    train['row_id'] = train['stock_id'].astype(str) + '-' + train['time_id'].astype(str)\n",
    "    test['row_id'] = test['stock_id'].astype(str) + '-' + test['time_id'].astype(str)\n",
    "    print(f'Our training set has {train.shape[0]} rows')\n",
    "    return train, test\n",
    "\n",
    "# Function to preprocess book data (for each stock id)\n",
    "def book_preprocessor(file_path, forward_fill = False):\n",
    "    df = pd.read_parquet(file_path)\n",
    "    \n",
    "    if forward_fill:\n",
    "        df = df.set_index(['time_id', 'seconds_in_bucket'])\n",
    "        df = df.reindex(pd.MultiIndex.from_product([df_book.index.levels[0], np.arange(0, 600)], names=['time_id', 'seconds_in_bucket']), method='ffill')\n",
    "        df.reset_index(inplace=True)\n",
    "    df['idle_sum'] = df.groupby('time_id')['seconds_in_bucket'].transform(lambda x: x.diff())\n",
    "    df['idle_sum'].fillna(0, inplace = True)\n",
    "    \n",
    "    df['total_spread'] = (df['ask_size1'] * df['ask_price1']) - (df['bid_size1'] * df['bid_size2'])\n",
    "    #df['market_depth'] = df.groupby([''])\n",
    "    \n",
    "    #df['ask_diff'] = df.groupby('time_id')['ask_size1'].transform(lambda x: x.diff()).fillna(0)\n",
    "    #df['bid_diff'] = df.groupby('time_id')['bid_size1'].transform(lambda x: x.diff()).fillna(0)\n",
    "    df['ask_gradient'] = df['ask_size1'].diff().fillna(0) / df['idle_sum'].shift(-1)\n",
    "    df['bid_gradient'] = df['bid_size1'].diff().fillna(0) / df['idle_sum'].shift(-1)\n",
    "    df['ask_gradient'].fillna(0, inplace = True)\n",
    "    df['bid_gradient'].fillna(0, inplace = True)\n",
    "    # Calculate Wap\n",
    "    df['wap1'] = calc_wap1(df)\n",
    "    df['wap2'] = calc_wap2(df)\n",
    "    #df['wap3'] = calc_wap3(df)\n",
    "    #df['wap4'] = calc_wap4(df)\n",
    "    # Calculate log returns\n",
    "    df['log_return1'] = df.groupby(['time_id'])['wap1'].apply(log_return)\n",
    "    df['log_return2'] = df.groupby(['time_id'])['wap2'].apply(log_return)\n",
    "    #df['log_return3'] = df.groupby(['time_id'])['wap3'].apply(log_return)\n",
    "    #df['log_return4'] = df.groupby(['time_id'])['wap4'].apply(log_return)\n",
    "    # Calculate wap balance\n",
    "    df['wap_balance'] = abs(df['wap1'] - df['wap2'])\n",
    "    df['wap_ratio'] = abs(df['wap1'] / df['wap2'])\n",
    "    # Calculate spread\n",
    "    df['price_spread'] = (df['ask_price1'] - df['bid_price1']) / ((df['ask_price1'] + df['bid_price1']) / 2)\n",
    "    df['price_spread2'] = (df['ask_price2'] - df['bid_price2']) / ((df['ask_price2'] + df['bid_price2']) / 2)\n",
    "    df['bid_spread'] = df['bid_price1'] - df['bid_price2']\n",
    "    df['ask_spread'] = df['ask_price1'] - df['ask_price2']\n",
    "    df[\"bid_ask_spread\"] = abs(df['bid_spread'] - df['ask_spread'])\n",
    "    df['total_volume'] = (df['ask_size1'] + df['ask_size2']) + (df['bid_size1'] + df['bid_size2'])\n",
    "    df['volume_imbalance'] = abs((df['ask_size1'] + df['ask_size2']) - (df['bid_size1'] + df['bid_size2']))\n",
    "    \n",
    "    # Dict for aggregations\n",
    "    create_feature_dict = {\n",
    "        #'wap1': [np.sum, np.std],\n",
    "        #'wap2': [np.sum, np.std],\n",
    "        #'ask_gradient':[np.var],\n",
    "        #'bid_gradient':[np.var],\n",
    "        'idle_sum':[np.mean, np.sum],\n",
    "        'wap_ratio':[np.mean, np.var],\n",
    "        'log_return1': [realized_volatility],\n",
    "        'log_return2': [realized_volatility],\n",
    "        'wap_balance': [np.mean],\n",
    "        'wap_ratio': [np.mean],\n",
    "        'price_spread':[np.mean, np.var],\n",
    "        'price_spread2':[np.mean],\n",
    "        'bid_spread':[np.mean],\n",
    "        'ask_spread':[np.mean],\n",
    "        'total_volume':[np.sum],\n",
    "        'volume_imbalance':[np.sum, np.var],\n",
    "        \"bid_ask_spread\":[np.sum],\n",
    "    }\n",
    "    create_feature_dict_time = {\n",
    "        'log_return1': [realized_volatility, realized_1],\n",
    "        'log_return2': [realized_volatility],\n",
    "        'idle_sum': [np.sum, np.mean],\n",
    "    }\n",
    "    \n",
    "    # Function to get group stats for different windows (seconds in bucket)\n",
    "    def get_stats_window(fe_dict,seconds_in_bucket, add_suffix = False):\n",
    "        # Group by the window\n",
    "        df_feature = df[df['seconds_in_bucket'] >= seconds_in_bucket].groupby(['time_id']).agg(fe_dict).reset_index()\n",
    "        # Rename columns joining suffix\n",
    "        df_feature.columns = ['_'.join(col) for col in df_feature.columns]\n",
    "        # Add a suffix to differentiate windows\n",
    "        if add_suffix:\n",
    "            df_feature = df_feature.add_suffix('_' + str(seconds_in_bucket))\n",
    "        return df_feature\n",
    "    \n",
    "    # Get the stats for different windows\n",
    "    df_feature = get_stats_window(create_feature_dict,seconds_in_bucket = 0, add_suffix = False)\n",
    "    df_feature_500 = get_stats_window(create_feature_dict_time,seconds_in_bucket = 500, add_suffix = True)\n",
    "    df_feature_400 = get_stats_window(create_feature_dict_time,seconds_in_bucket = 400, add_suffix = True)\n",
    "    df_feature_300 = get_stats_window(create_feature_dict_time,seconds_in_bucket = 300, add_suffix = True)\n",
    "    df_feature_200 = get_stats_window(create_feature_dict_time,seconds_in_bucket = 200, add_suffix = True)\n",
    "    df_feature_100 = get_stats_window(create_feature_dict_time,seconds_in_bucket = 100, add_suffix = True)\n",
    "\n",
    "    # Merge all\n",
    "    df_feature = df_feature.merge(df_feature_500, how = 'left', left_on = 'time_id_', right_on = 'time_id__500')\n",
    "    df_feature = df_feature.merge(df_feature_400, how = 'left', left_on = 'time_id_', right_on = 'time_id__400')\n",
    "    df_feature = df_feature.merge(df_feature_300, how = 'left', left_on = 'time_id_', right_on = 'time_id__300')\n",
    "    df_feature = df_feature.merge(df_feature_200, how = 'left', left_on = 'time_id_', right_on = 'time_id__200')\n",
    "    df_feature = df_feature.merge(df_feature_100, how = 'left', left_on = 'time_id_', right_on = 'time_id__100')\n",
    "    # Drop unnecesary time_ids\n",
    "    df_feature.drop(['time_id__500','time_id__400', 'time_id__300', 'time_id__200','time_id__100'], axis = 1, inplace = True)\n",
    "    \n",
    "    \n",
    "    # Create row_id so we can merge\n",
    "    stock_id = file_path.split('=')[1]\n",
    "    df_feature['row_id'] = df_feature['time_id_'].apply(lambda x: f'{stock_id}-{x}')\n",
    "    df_feature.drop(['time_id_'], axis = 1, inplace = True)\n",
    "    return df_feature\n",
    "\n",
    "# Function to preprocess trade data (for each stock id)\n",
    "def trade_preprocessor(file_path):\n",
    "    df = pd.read_parquet(file_path)\n",
    "    #df_feature['rq_est1'] = df.groupby('time_id')['log_return'].agg(realized_1).reset_index().iloc[:, -1]\n",
    "    df['log_return'] = df.groupby('time_id')['price'].apply(log_return)\n",
    "    df['amount']=df['price']*df['size']\n",
    "    # Dict for aggregations\n",
    "    create_feature_dict = {\n",
    "        'log_return':[realized_volatility, realized_quadpower_quarticity],\n",
    "        #'seconds_in_bucket':[count_unique],\n",
    "        'size':[np.sum],\n",
    "        'order_count':[np.mean],\n",
    "        'amount':[np.sum, np.var],\n",
    "    }\n",
    "    create_feature_dict_time = {\n",
    "        'log_return':[realized_volatility, realized_1],\n",
    "        #'seconds_in_bucket':[count_unique],\n",
    "        'size':[np.sum],\n",
    "        'order_count':[np.mean],\n",
    "    }\n",
    "    # Function to get group stats for different windows (seconds in bucket)\n",
    "    def get_stats_window(fe_dict,seconds_in_bucket, add_suffix = False):\n",
    "        # Group by the window\n",
    "        df_feature = df[df['seconds_in_bucket'] >= seconds_in_bucket].groupby(['time_id']).agg(fe_dict).reset_index()\n",
    "        # Rename columns joining suffix\n",
    "        df_feature.columns = ['_'.join(col) for col in df_feature.columns]\n",
    "        # Add a suffix to differentiate windows\n",
    "        if add_suffix:\n",
    "            df_feature = df_feature.add_suffix('_' + str(seconds_in_bucket))\n",
    "        return df_feature\n",
    "    \n",
    "\n",
    "    # Get the stats for different windows\n",
    "    df_feature = get_stats_window(create_feature_dict,seconds_in_bucket = 0, add_suffix = False)\n",
    "    df_feature_500 = get_stats_window(create_feature_dict_time,seconds_in_bucket = 500, add_suffix = True)\n",
    "    df_feature_400 = get_stats_window(create_feature_dict_time,seconds_in_bucket = 400, add_suffix = True)\n",
    "    df_feature_300 = get_stats_window(create_feature_dict_time,seconds_in_bucket = 300, add_suffix = True)\n",
    "    df_feature_200 = get_stats_window(create_feature_dict_time,seconds_in_bucket = 200, add_suffix = True)\n",
    "    df_feature_100 = get_stats_window(create_feature_dict_time,seconds_in_bucket = 100, add_suffix = True)\n",
    "    \n",
    "        #market_breadth\n",
    "    df_feature['<=300s_price'] = (df[df.seconds_in_bucket <= 300].groupby('time_id')['amount'].sum() / df[df.seconds_in_bucket <= 300].groupby('time_id')['size'].sum()).reset_index().iloc[:, -1]\n",
    "    df_feature['>300s_price'] = (df[df.seconds_in_bucket > 300].groupby('time_id')['amount'].sum()/ df[df.seconds_in_bucket > 300].groupby('time_id')['size'].sum()).reset_index().iloc[:, -1]\n",
    "    df_feature[\"advance_decline\"] = df_feature['>300s_price'] - df_feature['<=300s_price']\n",
    "    df_feature[\"advance_decline\"] = df_feature[\"advance_decline\"].apply(np.sign)\n",
    "    df_feature.drop(['<=300s_price','>300s_price'], axis= 1, inplace = True)\n",
    "    \n",
    "    def tendency(price, vol):    \n",
    "        df_diff = np.diff(price)\n",
    "        val = (df_diff/price[1:])*100\n",
    "        power = np.sum(val*vol[1:])\n",
    "        return(power)\n",
    "    \n",
    "    lis = []\n",
    "    for n_time_id in df['time_id'].unique():\n",
    "        df_id = df[df['time_id'] == n_time_id]        \n",
    "        tendencyV = tendency(df_id['price'].values, df_id['size'].values)      \n",
    "        f_max = np.sum(df_id['price'].values > np.mean(df_id['price'].values))\n",
    "        f_min = np.sum(df_id['price'].values < np.mean(df_id['price'].values))\n",
    "        df_max =  np.sum(np.diff(df_id['price'].values) > 0)\n",
    "        df_min =  np.sum(np.diff(df_id['price'].values) < 0)\n",
    "        # new\n",
    "        abs_diff = np.median(np.abs( df_id['price'].values - np.mean(df_id['price'].values)))        \n",
    "        energy = np.mean(df_id['price'].values**2)\n",
    "        iqr_p = np.percentile(df_id['price'].values,75) - np.percentile(df_id['price'].values,25)\n",
    "        \n",
    "        # vol vars\n",
    "        \n",
    "        abs_diff_v = np.median(np.abs( df_id['size'].values - np.mean(df_id['size'].values)))        \n",
    "        energy_v = np.sum(df_id['size'].values**2)\n",
    "        iqr_p_v = np.percentile(df_id['size'].values,75) - np.percentile(df_id['size'].values,25)\n",
    "        \n",
    "        lis.append({'time_id':n_time_id,'tendency':tendencyV,'f_max':f_max,'f_min':f_min,'df_max':df_max,'df_min':df_min,\n",
    "                   'abs_diff':abs_diff,'energy':energy,'iqr_p':iqr_p,'abs_diff_v':abs_diff_v,'energy_v':energy_v,'iqr_p_v':iqr_p_v})\n",
    "    \n",
    "    df_lr = pd.DataFrame(lis)\n",
    "        \n",
    "   \n",
    "    df_feature = df_feature.merge(df_lr, how = 'left', left_on = 'time_id_', right_on = 'time_id')\n",
    "    \n",
    "    # Merge all\n",
    "    df_feature = df_feature.merge(df_feature_500, how = 'left', left_on = 'time_id_', right_on = 'time_id__500')\n",
    "    df_feature = df_feature.merge(df_feature_400, how = 'left', left_on = 'time_id_', right_on = 'time_id__400')\n",
    "    df_feature = df_feature.merge(df_feature_300, how = 'left', left_on = 'time_id_', right_on = 'time_id__300')\n",
    "    df_feature = df_feature.merge(df_feature_200, how = 'left', left_on = 'time_id_', right_on = 'time_id__200')\n",
    "    df_feature = df_feature.merge(df_feature_100, how = 'left', left_on = 'time_id_', right_on = 'time_id__100')\n",
    "    # Drop unnecesary time_ids\n",
    "    df_feature.drop(['time_id__500','time_id__400', 'time_id__300', 'time_id__200','time_id','time_id__100'], axis = 1, inplace = True)\n",
    "    \n",
    "        # Create row_id so we can merge\n",
    "    df_feature['rq_est1'] = df.groupby('time_id')['log_return'].agg(realized_1).reset_index().iloc[:, -1]\n",
    "    #df_feature['rq_est3'] = df.groupby('time_id')['log_return'].agg(realized_3).reset_index().iloc[:, -1]\n",
    "    \n",
    "    \n",
    "    df_feature = df_feature.add_prefix('trade_')\n",
    "    stock_id = file_path.split('=')[1]\n",
    "    df_feature['row_id'] = df_feature['trade_time_id_'].apply(lambda x:f'{stock_id}-{x}')\n",
    "    df_feature.drop(['trade_time_id_'], axis = 1, inplace = True)\n",
    "    return df_feature\n",
    "\n",
    "# Function to get group stats for the stock_id and time_id\n",
    "def get_time_stock(df):\n",
    "    vol_cols = ['log_return1_realized_volatility',\n",
    "                'log_return2_realized_volatility',\n",
    "                'log_return1_realized_volatility_400',\n",
    "                'log_return2_realized_volatility_400', \n",
    "                'log_return1_realized_volatility_300',\n",
    "                'log_return2_realized_volatility_300',\n",
    "                'log_return1_realized_volatility_200',\n",
    "                'log_return2_realized_volatility_200', \n",
    "                'log_return1_realized_volatility_100',\n",
    "                'log_return2_realized_volatility_100', \n",
    "                'trade_log_return_realized_volatility',\n",
    "                'trade_log_return_realized_volatility_400',\n",
    "                'trade_log_return_realized_volatility_300',\n",
    "                'trade_log_return_realized_volatility_200',\n",
    "                'trade_log_return_realized_volatility_100']\n",
    "\n",
    "\n",
    "    # Group by the stock id\n",
    "    df_stock_id = df.groupby(['stock_id'])[vol_cols].agg(['mean']).reset_index()\n",
    "    # Rename columns joining suffix\n",
    "    df_stock_id.columns = ['_'.join(col) for col in df_stock_id.columns]\n",
    "    df_stock_id = df_stock_id.add_suffix('_' + 'stock')\n",
    "\n",
    "    # Group by the stock id\n",
    "    df_time_id = df.groupby(['time_id'])[vol_cols].agg(['mean']).reset_index()\n",
    "    # Rename columns joining suffix\n",
    "    df_time_id.columns = ['_'.join(col) for col in df_time_id.columns]\n",
    "    df_time_id = df_time_id.add_suffix('_' + 'time')\n",
    "    \n",
    "    # Merge with original dataframe\n",
    "    df = df.merge(df_stock_id, how = 'left', left_on = ['stock_id'], right_on = ['stock_id__stock'])\n",
    "    df = df.merge(df_time_id, how = 'left', left_on = ['time_id'], right_on = ['time_id__time'])\n",
    "    df.drop(['stock_id__stock', 'time_id__time'], axis = 1, inplace = True)\n",
    "    return df\n",
    "    \n",
    "# Funtion to make preprocessing function in parallel (for each stock id)\n",
    "def preprocessor(list_stock_ids, is_train = True):\n",
    "    \n",
    "    # Parrallel for loop\n",
    "    def for_joblib(stock_id):\n",
    "        # Train\n",
    "        if is_train:\n",
    "            file_path_book = data_dir + \"book_train.parquet/stock_id=\" + str(stock_id)\n",
    "            file_path_trade = data_dir + \"trade_train.parquet/stock_id=\" + str(stock_id)\n",
    "        # Test\n",
    "        else:\n",
    "            file_path_book = data_dir + \"book_test.parquet/stock_id=\" + str(stock_id)\n",
    "            file_path_trade = data_dir + \"trade_test.parquet/stock_id=\" + str(stock_id)\n",
    "    \n",
    "        # Preprocess book and trade data and merge them\n",
    "        df_tmp = pd.merge(book_preprocessor(file_path_book), trade_preprocessor(file_path_trade), on = 'row_id', how = 'left')\n",
    "        \n",
    "        # Return the merge dataframe\n",
    "        return df_tmp\n",
    "    \n",
    "    # Use parallel api to call paralle for loop\n",
    "    df = Parallel(n_jobs = -1, verbose = 1)(delayed(for_joblib)(stock_id) for stock_id in list_stock_ids)\n",
    "    # Concatenate all the dataframes that return from Parallel\n",
    "    df = pd.concat(df, ignore_index = True)\n",
    "    return df\n",
    "\n",
    "# Function to calculate the root mean squared percentage error\n",
    "def rmspe(y_true, y_pred):\n",
    "    return np.sqrt(np.mean(np.square((y_true - y_pred) / y_true)))\n",
    "\n",
    "# Function to early stop with root mean squared percentage error\n",
    "def feval_rmspe(y_pred, lgb_train):\n",
    "    y_true = lgb_train.get_label()\n",
    "    return 'RMSPE', rmspe(y_true, y_pred), False"
   ]
  },
  {
   "cell_type": "code",
   "execution_count": 7,
   "id": "0f1130a2",
   "metadata": {
    "execution": {
     "iopub.execute_input": "2022-03-16T17:25:37.293928Z",
     "iopub.status.busy": "2022-03-16T17:25:37.293249Z",
     "iopub.status.idle": "2022-03-16T18:16:07.555551Z",
     "shell.execute_reply": "2022-03-16T18:16:07.554822Z",
     "shell.execute_reply.started": "2021-09-18T09:25:48.308969Z"
    },
    "papermill": {
     "duration": 3030.28906,
     "end_time": "2022-03-16T18:16:07.555879",
     "exception": false,
     "start_time": "2022-03-16T17:25:37.266819",
     "status": "completed"
    },
    "tags": []
   },
   "outputs": [
    {
     "name": "stdout",
     "output_type": "stream",
     "text": [
      "Our training set has 428932 rows\n"
     ]
    },
    {
     "name": "stderr",
     "output_type": "stream",
     "text": [
      "[Parallel(n_jobs=-1)]: Using backend LokyBackend with 4 concurrent workers.\n",
      "[Parallel(n_jobs=-1)]: Done  42 tasks      | elapsed: 19.7min\n",
      "[Parallel(n_jobs=-1)]: Done 112 out of 112 | elapsed: 50.4min finished\n",
      "[Parallel(n_jobs=-1)]: Using backend LokyBackend with 4 concurrent workers.\n",
      "[Parallel(n_jobs=-1)]: Done   1 out of   1 | elapsed:    0.3s finished\n"
     ]
    }
   ],
   "source": [
    "# Read train and test\n",
    "train, test = read_train_test()\n",
    "\n",
    "# Get unique stock ids \n",
    "train_stock_ids = train['stock_id'].unique()\n",
    "# Preprocess them using Parallel and our single stock id functions\n",
    "train_ = preprocessor(train_stock_ids, is_train = True)\n",
    "train = train.merge(train_, on = ['row_id'], how = 'left')\n",
    "\n",
    "# Get unique stock ids \n",
    "test_stock_ids = test['stock_id'].unique()\n",
    "# Preprocess them using Parallel and our single stock id functions\n",
    "test_ = preprocessor(test_stock_ids, is_train = False)\n",
    "test = test.merge(test_, on = ['row_id'], how = 'left')\n",
    "\n",
    "# Get group stats of time_id and stock_id\n",
    "train = get_time_stock(train)\n",
    "test = get_time_stock(test)\n"
   ]
  },
  {
   "cell_type": "code",
   "execution_count": 8,
   "id": "e53f9051",
   "metadata": {
    "execution": {
     "iopub.execute_input": "2022-03-16T18:16:07.610881Z",
     "iopub.status.busy": "2022-03-16T18:16:07.610158Z",
     "iopub.status.idle": "2022-03-16T18:16:08.239919Z",
     "shell.execute_reply": "2022-03-16T18:16:08.239388Z"
    },
    "papermill": {
     "duration": 0.662024,
     "end_time": "2022-03-16T18:16:08.240071",
     "exception": false,
     "start_time": "2022-03-16T18:16:07.578047",
     "status": "completed"
    },
    "tags": []
   },
   "outputs": [],
   "source": [
    "train = train[(train.stock_id != 31) & (train.time_id != 25504)]\n",
    "train = train[(train.stock_id != 31) & (train.time_id != 27174)]\n",
    "train = train[(train.stock_id != 31) & (train.time_id != 1544)]\n",
    "train = train[(train.stock_id != 81) & (train.time_id != 28319)]\n",
    "train = train[(train.stock_id != 27) & (train.time_id != 20551)]"
   ]
  },
  {
   "cell_type": "code",
   "execution_count": 9,
   "id": "2ed563af",
   "metadata": {
    "execution": {
     "iopub.execute_input": "2022-03-16T18:16:08.294142Z",
     "iopub.status.busy": "2022-03-16T18:16:08.293330Z",
     "iopub.status.idle": "2022-03-16T18:16:08.296704Z",
     "shell.execute_reply": "2022-03-16T18:16:08.297200Z",
     "shell.execute_reply.started": "2021-09-18T10:14:48.170198Z"
    },
    "papermill": {
     "duration": 0.034204,
     "end_time": "2022-03-16T18:16:08.297380",
     "exception": false,
     "start_time": "2022-03-16T18:16:08.263176",
     "status": "completed"
    },
    "tags": []
   },
   "outputs": [
    {
     "data": {
      "text/plain": [
       "109"
      ]
     },
     "execution_count": 9,
     "metadata": {},
     "output_type": "execute_result"
    }
   ],
   "source": [
    "colNames = [col for col in list(train.columns)\n",
    "            if col not in {\"stock_id\", \"time_id\", \"target\", \"row_id\"}]\n",
    "len(colNames)"
   ]
  },
  {
   "cell_type": "code",
   "execution_count": 10,
   "id": "28718abe",
   "metadata": {
    "execution": {
     "iopub.execute_input": "2022-03-16T18:16:08.346139Z",
     "iopub.status.busy": "2022-03-16T18:16:08.345455Z",
     "iopub.status.idle": "2022-03-16T18:16:08.352129Z",
     "shell.execute_reply": "2022-03-16T18:16:08.352682Z",
     "shell.execute_reply.started": "2021-09-18T10:14:48.791707Z"
    },
    "papermill": {
     "duration": 0.032761,
     "end_time": "2022-03-16T18:16:08.352849",
     "exception": false,
     "start_time": "2022-03-16T18:16:08.320088",
     "status": "completed"
    },
    "tags": []
   },
   "outputs": [],
   "source": [
    "cluster_features = [\n",
    "    \"time_id\",\n",
    "    \"stock_id\",\n",
    "    \"row_id\",\n",
    "    \"idle_sum_mean_500\",\n",
    "    \"idle_sum_mean_400\",\n",
    "    \"idle_sum_mean_300\",\n",
    "    \"idle_sum_mean_200\",\n",
    "    \"idle_sum_mean_100\",\n",
    "    \"idle_sum_mean\",\n",
    "    \"idle_sum_sum\",\n",
    "    \"bid_ask_spread_sum\",\n",
    "    \"ask_spread_mean\",\n",
    "    \"bid_spread_mean\",\n",
    "    \"price_spread_var\",\n",
    "    \"total_volume_sum\",\n",
    "    \"wap_ratio_mean\",\n",
    "    \n",
    "    #\"trade_log_return_realized_volatility_500\",\n",
    "    #\"trade_log_return_realized_volatility_400\",\n",
    "    \"trade_log_return_realized_volatility_300\",\n",
    "    #\"trade_log_return_realized_volatility_200\",\n",
    "    #\"trade_log_return_realized_volatility_100\",\n",
    "    \n",
    "    \"trade_size_sum_500\",\n",
    "    \"trade_size_sum_400\",\n",
    "    \"trade_size_sum_300\",\n",
    "    \"trade_size_sum_200\",\n",
    "    \"trade_size_sum_100\",\n",
    "    \n",
    "    \"trade_order_count_mean_500\",\n",
    "    \"trade_order_count_mean_400\",\n",
    "    \"trade_order_count_mean_300\",\n",
    "    \"trade_order_count_mean_200\",\n",
    "    \"trade_order_count_mean_100\",\n",
    "    \n",
    "    \"trade_energy_v\",\n",
    "    \"trade_energy\",\n",
    "    \"trade_f_min\",\n",
    "    \"trade_f_max\",\n",
    "    \"trade_tendency\",\n",
    "    \"trade_advance_decline\",\n",
    "    \"trade_order_count_mean\",\n",
    "    \"trade_abs_diff\",\n",
    "    \"trade_df_max\",\n",
    "    \"trade_iqr_p_v\",\n",
    "    #\"trade_rq_est1\",\n",
    "    \n",
    "    \"log_return1_realized_volatility_500\",\n",
    "    \"log_return1_realized_volatility_400\",\n",
    "    \"log_return1_realized_volatility_300\",\n",
    "    \"log_return1_realized_volatility_200\",\n",
    "    \"log_return1_realized_volatility_100\",\n",
    "    \n",
    "    \"log_return2_realized_volatility_500\",\n",
    "    \"log_return2_realized_volatility_400\",\n",
    "    \"log_return2_realized_volatility_300\",\n",
    "    \"log_return2_realized_volatility_200\",\n",
    "    \"log_return2_realized_volatility_100\"\n",
    "]"
   ]
  },
  {
   "cell_type": "code",
   "execution_count": 11,
   "id": "a676ce92",
   "metadata": {
    "execution": {
     "iopub.execute_input": "2022-03-16T18:16:08.400937Z",
     "iopub.status.busy": "2022-03-16T18:16:08.400270Z",
     "iopub.status.idle": "2022-03-16T18:16:09.493575Z",
     "shell.execute_reply": "2022-03-16T18:16:09.492897Z",
     "shell.execute_reply.started": "2021-09-18T10:14:48.803176Z"
    },
    "papermill": {
     "duration": 1.118173,
     "end_time": "2022-03-16T18:16:09.493713",
     "exception": false,
     "start_time": "2022-03-16T18:16:08.375540",
     "status": "completed"
    },
    "tags": []
   },
   "outputs": [],
   "source": [
    "from sklearn.cluster import OPTICS\n",
    "# making agg features\n",
    "\n",
    "train_p = pd.read_csv('../input/optiver-realized-volatility-prediction/train.csv')\n",
    "train_p = train_p.pivot(index='time_id', columns='stock_id', values='target')\n",
    "\n",
    "corr = train_p.corr()\n",
    "\n",
    "ids = corr.index\n",
    "\n",
    "kmeans = OPTICS(min_samples = 2, max_eps = 0.75).fit(corr.values)\n",
    "#KMeans(n_clusters=3, random_state=0).fit(corr.values)\n",
    "#print(kmeans.labels_)\n",
    "\n",
    "l = []\n",
    "for n in range(np.max(kmeans.labels_) + 1):\n",
    "    l.append ( [ (x-1) for x in ( (ids+1)*(kmeans.labels_ == n)) if x > 0] )\n",
    "    \n",
    "\n",
    "mat = []\n",
    "matTest = []\n",
    "\n",
    "n = 0\n",
    "for ind in l:\n",
    "    if (len(ind) < 3):\n",
    "        continue\n",
    "    newDf = train.loc[train['stock_id'].isin(ind) , cluster_features]\n",
    "    newDf = newDf.groupby(['time_id']).agg(np.nanmean)\n",
    "    newDf.loc[:,'stock_id'] = str(n)+'c1'\n",
    "    mat.append ( newDf )\n",
    "    \n",
    "    newDf = test.loc[test['stock_id'].isin(ind) , cluster_features]    \n",
    "    newDf = newDf.groupby(['time_id']).agg(np.nanmean)\n",
    "    newDf.loc[:,'stock_id'] = str(n)+'c1'\n",
    "    matTest.append ( newDf )\n",
    "    \n",
    "    n+=1\n",
    "    \n",
    "mat1 = pd.concat(mat).reset_index()\n",
    "#mat1.drop(columns=['target'],inplace=True)\n",
    "\n",
    "mat2 = pd.concat(matTest).reset_index()"
   ]
  },
  {
   "cell_type": "code",
   "execution_count": 12,
   "id": "00efd8a5",
   "metadata": {
    "execution": {
     "iopub.execute_input": "2022-03-16T18:16:09.549238Z",
     "iopub.status.busy": "2022-03-16T18:16:09.547593Z",
     "iopub.status.idle": "2022-03-16T18:16:09.605739Z",
     "shell.execute_reply": "2022-03-16T18:16:09.605204Z",
     "shell.execute_reply.started": "2021-09-18T10:14:49.856955Z"
    },
    "papermill": {
     "duration": 0.089143,
     "end_time": "2022-03-16T18:16:09.605878",
     "exception": false,
     "start_time": "2022-03-16T18:16:09.516735",
     "status": "completed"
    },
    "tags": []
   },
   "outputs": [
    {
     "name": "stderr",
     "output_type": "stream",
     "text": [
      "/opt/conda/lib/python3.7/site-packages/ipykernel_launcher.py:3: FutureWarning: Index.ravel returning ndarray is deprecated; in a future version this will return a view on self.\n",
      "  This is separate from the ipykernel package so we can avoid doing imports until\n",
      "/opt/conda/lib/python3.7/site-packages/ipykernel_launcher.py:7: FutureWarning: Index.ravel returning ndarray is deprecated; in a future version this will return a view on self.\n",
      "  import sys\n"
     ]
    }
   ],
   "source": [
    "mat2 = pd.concat([mat2,mat1.loc[mat1.time_id==5]])\n",
    "mat1 = mat1.pivot(index='time_id', columns='stock_id')\n",
    "mat1.columns = [\"_\".join(x) for x in mat1.columns.ravel()]\n",
    "mat1.reset_index(inplace=True)\n",
    "\n",
    "mat2 = mat2.pivot(index='time_id', columns='stock_id')\n",
    "mat2.columns = [\"_\".join(x) for x in mat2.columns.ravel()]\n",
    "mat2.reset_index(inplace=True)"
   ]
  },
  {
   "cell_type": "code",
   "execution_count": 13,
   "id": "e543bd86",
   "metadata": {
    "execution": {
     "iopub.execute_input": "2022-03-16T18:16:09.657290Z",
     "iopub.status.busy": "2022-03-16T18:16:09.656648Z",
     "iopub.status.idle": "2022-03-16T18:16:12.549572Z",
     "shell.execute_reply": "2022-03-16T18:16:12.548893Z",
     "shell.execute_reply.started": "2021-09-18T10:14:49.927778Z"
    },
    "papermill": {
     "duration": 2.920768,
     "end_time": "2022-03-16T18:16:12.549711",
     "exception": false,
     "start_time": "2022-03-16T18:16:09.628943",
     "status": "completed"
    },
    "tags": []
   },
   "outputs": [],
   "source": [
    "train = pd.merge(train,mat1,how='left',on='time_id')\n",
    "test = pd.merge(test,mat2,how='left',on='time_id')"
   ]
  },
  {
   "cell_type": "code",
   "execution_count": 14,
   "id": "014800f7",
   "metadata": {
    "execution": {
     "iopub.execute_input": "2022-03-16T18:16:12.601456Z",
     "iopub.status.busy": "2022-03-16T18:16:12.600780Z",
     "iopub.status.idle": "2022-03-16T18:16:16.415788Z",
     "shell.execute_reply": "2022-03-16T18:16:16.416272Z",
     "shell.execute_reply.started": "2021-09-18T10:14:54.269528Z"
    },
    "papermill": {
     "duration": 3.843649,
     "end_time": "2022-03-16T18:16:16.416467",
     "exception": false,
     "start_time": "2022-03-16T18:16:12.572818",
     "status": "completed"
    },
    "tags": []
   },
   "outputs": [],
   "source": [
    "train['adr'] = train.groupby('time_id')['trade_advance_decline'].transform(pos_neg_ratio)\n",
    "test['adr'] = test.groupby('time_id')['trade_advance_decline'].transform(pos_neg_ratio)"
   ]
  },
  {
   "cell_type": "code",
   "execution_count": 15,
   "id": "c78cc3be",
   "metadata": {
    "execution": {
     "iopub.execute_input": "2022-03-16T18:16:16.594835Z",
     "iopub.status.busy": "2022-03-16T18:16:16.593588Z",
     "iopub.status.idle": "2022-03-16T18:16:16.598567Z",
     "shell.execute_reply": "2022-03-16T18:16:16.598045Z",
     "shell.execute_reply.started": "2021-09-18T10:14:57.819371Z"
    },
    "papermill": {
     "duration": 0.158742,
     "end_time": "2022-03-16T18:16:16.598710",
     "exception": false,
     "start_time": "2022-03-16T18:16:16.439968",
     "status": "completed"
    },
    "tags": []
   },
   "outputs": [
    {
     "data": {
      "text/plain": [
       "20"
      ]
     },
     "execution_count": 15,
     "metadata": {},
     "output_type": "execute_result"
    }
   ],
   "source": [
    "import gc\n",
    "del mat1,mat2, kmeans, matTest, mat\n",
    "gc.collect()"
   ]
  },
  {
   "cell_type": "code",
   "execution_count": 16,
   "id": "f1d987b7",
   "metadata": {
    "execution": {
     "iopub.execute_input": "2022-03-16T18:16:16.649278Z",
     "iopub.status.busy": "2022-03-16T18:16:16.648667Z",
     "iopub.status.idle": "2022-03-16T18:16:22.865330Z",
     "shell.execute_reply": "2022-03-16T18:16:22.864645Z",
     "shell.execute_reply.started": "2021-09-18T10:14:57.980309Z"
    },
    "papermill": {
     "duration": 6.24283,
     "end_time": "2022-03-16T18:16:22.865521",
     "exception": false,
     "start_time": "2022-03-16T18:16:16.622691",
     "status": "completed"
    },
    "tags": []
   },
   "outputs": [],
   "source": [
    "from numpy.random import seed\n",
    "seed(42)\n",
    "import tensorflow as tf\n",
    "tf.random.set_seed(42)\n",
    "from tensorflow import keras\n",
    "from tensorflow.keras import backend as K\n",
    "from tensorflow.keras import regularizers\n",
    "\n",
    "def root_mean_squared_per_error(y_true, y_pred):\n",
    "         return K.sqrt(K.mean(K.square( (y_true - y_pred)/ y_true )))\n",
    "    \n",
    "es = tf.keras.callbacks.EarlyStopping(\n",
    "    monitor='val_loss', patience=20, verbose=0,\n",
    "    mode='min',restore_best_weights=True)\n",
    "\n",
    "plateau = tf.keras.callbacks.ReduceLROnPlateau(\n",
    "    monitor='val_loss', factor=0.2, patience=7, verbose=0,\n",
    "    mode='min')"
   ]
  },
  {
   "cell_type": "code",
   "execution_count": 17,
   "id": "5bde74df",
   "metadata": {
    "execution": {
     "iopub.execute_input": "2022-03-16T18:16:22.917653Z",
     "iopub.status.busy": "2022-03-16T18:16:22.917045Z",
     "iopub.status.idle": "2022-03-16T18:16:23.236661Z",
     "shell.execute_reply": "2022-03-16T18:16:23.234565Z",
     "shell.execute_reply.started": "2021-09-18T10:15:03.657262Z"
    },
    "papermill": {
     "duration": 0.346186,
     "end_time": "2022-03-16T18:16:23.236926",
     "exception": false,
     "start_time": "2022-03-16T18:16:22.890740",
     "status": "completed"
    },
    "tags": []
   },
   "outputs": [
    {
     "data": {
      "text/plain": [
       "42"
      ]
     },
     "execution_count": 17,
     "metadata": {},
     "output_type": "execute_result"
    }
   ],
   "source": [
    "gc.collect()"
   ]
  },
  {
   "cell_type": "code",
   "execution_count": 18,
   "id": "7dc34996",
   "metadata": {
    "execution": {
     "iopub.execute_input": "2022-03-16T18:16:23.359195Z",
     "iopub.status.busy": "2022-03-16T18:16:23.358144Z",
     "iopub.status.idle": "2022-03-16T18:16:23.362754Z",
     "shell.execute_reply": "2022-03-16T18:16:23.361728Z",
     "shell.execute_reply.started": "2021-09-18T10:15:03.892668Z"
    },
    "papermill": {
     "duration": 0.073691,
     "end_time": "2022-03-16T18:16:23.363089",
     "exception": false,
     "start_time": "2022-03-16T18:16:23.289398",
     "status": "completed"
    },
    "tags": []
   },
   "outputs": [],
   "source": [
    "features = [col for col in train.columns if col not in {\"time_id\", \"target\", \"row_id\", \"fold\", \"lgb1\", \"lgb2\", \"nn\", 'stock_id'}]"
   ]
  },
  {
   "cell_type": "code",
   "execution_count": 19,
   "id": "2575dab2",
   "metadata": {
    "execution": {
     "iopub.execute_input": "2022-03-16T18:16:23.485448Z",
     "iopub.status.busy": "2022-03-16T18:16:23.483560Z",
     "iopub.status.idle": "2022-03-16T18:16:23.497469Z",
     "shell.execute_reply": "2022-03-16T18:16:23.499064Z",
     "shell.execute_reply.started": "2021-09-18T12:20:15.36072Z"
    },
    "papermill": {
     "duration": 0.087181,
     "end_time": "2022-03-16T18:16:23.499722",
     "exception": false,
     "start_time": "2022-03-16T18:16:23.412541",
     "status": "completed"
    },
    "tags": []
   },
   "outputs": [],
   "source": [
    "hidden_units = (128,64,32)\n",
    "stock_embedding_size = 8\n",
    "weight_decay = 1e-4\n",
    "\n",
    "def base_model():\n",
    "    \n",
    "    # Each instance will consist of two inputs: a single user id, and a single movie id\n",
    "    stock_id_input = keras.Input(shape=(1,), name='stock_id')\n",
    "    num_input = keras.Input(shape=(train[features].shape[1],), name='num_data')\n",
    "\n",
    "\n",
    "    #embedding, flatenning and concatenating\n",
    "    stock_embedded = keras.layers.Embedding(max(cat_data)+1, stock_embedding_size, \n",
    "                                           input_length=1, name='stock_embedding')(stock_id_input)\n",
    "    stock_flattened = keras.layers.Flatten()(stock_embedded)\n",
    "    out = keras.layers.Concatenate()([stock_flattened, num_input])\n",
    "    \n",
    "\n",
    "    out = keras.layers.Dense(128, activation='swish',\n",
    "                             kernel_initializer = 'he_normal')(out)\n",
    "    out = keras.layers.Dense(64, activation='swish',\n",
    "                             kernel_initializer = 'he_normal')(out)\n",
    "    out = keras.layers.Dense(32, activation='swish',\n",
    "                             kernel_initializer = 'he_normal')(out)\n",
    "        \n",
    "\n",
    "    #out = keras.layers.Concatenate()([out, num_input])\n",
    "\n",
    "    # A single output: our predicted rating\n",
    "    out = keras.layers.Dense(1, activation='linear', name='prediction')(out)\n",
    "    \n",
    "    model = keras.Model(\n",
    "    inputs = [stock_id_input, num_input],\n",
    "    outputs = out,\n",
    "    )\n",
    "    \n",
    "    return model"
   ]
  },
  {
   "cell_type": "code",
   "execution_count": 20,
   "id": "02252f35",
   "metadata": {
    "execution": {
     "iopub.execute_input": "2022-03-16T18:16:23.610566Z",
     "iopub.status.busy": "2022-03-16T18:16:23.609890Z",
     "iopub.status.idle": "2022-03-16T18:16:23.945850Z",
     "shell.execute_reply": "2022-03-16T18:16:23.944175Z",
     "shell.execute_reply.started": "2021-09-18T12:20:15.794143Z"
    },
    "papermill": {
     "duration": 0.398038,
     "end_time": "2022-03-16T18:16:23.946293",
     "exception": false,
     "start_time": "2022-03-16T18:16:23.548255",
     "status": "completed"
    },
    "tags": []
   },
   "outputs": [
    {
     "data": {
      "text/plain": [
       "20"
      ]
     },
     "execution_count": 20,
     "metadata": {},
     "output_type": "execute_result"
    }
   ],
   "source": [
    "K.clear_session()\n",
    "gc.collect()"
   ]
  },
  {
   "cell_type": "code",
   "execution_count": 21,
   "id": "fb90611d",
   "metadata": {
    "execution": {
     "iopub.execute_input": "2022-03-16T18:16:24.078885Z",
     "iopub.status.busy": "2022-03-16T18:16:24.078084Z",
     "iopub.status.idle": "2022-03-16T18:44:03.321729Z",
     "shell.execute_reply": "2022-03-16T18:44:03.321097Z"
    },
    "papermill": {
     "duration": 1659.309006,
     "end_time": "2022-03-16T18:44:03.321892",
     "exception": false,
     "start_time": "2022-03-16T18:16:24.012886",
     "status": "completed"
    },
    "tags": []
   },
   "outputs": [
    {
     "name": "stdout",
     "output_type": "stream",
     "text": [
      "Epoch 1/3\n",
      "652/652 [==============================] - 4s 6ms/step - loss: 0.2047\n",
      "Epoch 2/3\n",
      "652/652 [==============================] - 4s 6ms/step - loss: 0.2047\n",
      "Epoch 3/3\n",
      "652/652 [==============================] - 4s 6ms/step - loss: 0.2046\n",
      "min predicted_value: 0.00019194929336663336\n",
      "Fold 0 0: 0.22441\n",
      "Epoch 1/3\n",
      "652/652 [==============================] - 5s 7ms/step - loss: 0.2038\n",
      "Epoch 2/3\n",
      "652/652 [==============================] - 4s 7ms/step - loss: 0.2038\n",
      "Epoch 3/3\n",
      "652/652 [==============================] - 5s 7ms/step - loss: 0.2039\n",
      "min predicted_value: 0.00019194929336663336\n",
      "Fold 0 1: 0.21866\n",
      "Epoch 1/3\n",
      "652/652 [==============================] - 4s 6ms/step - loss: 0.2291\n",
      "Epoch 2/3\n",
      "652/652 [==============================] - 6s 9ms/step - loss: 0.2261\n",
      "Epoch 3/3\n",
      "652/652 [==============================] - 4s 6ms/step - loss: 0.2236\n",
      "min predicted_value: 0.00019194929336663336\n",
      "Fold 0 2: 0.23796\n",
      "Epoch 1/3\n",
      "652/652 [==============================] - 4s 6ms/step - loss: 0.2009\n",
      "Epoch 2/3\n",
      "652/652 [==============================] - 4s 6ms/step - loss: 0.2008\n",
      "Epoch 3/3\n",
      "652/652 [==============================] - 4s 6ms/step - loss: 0.2008\n",
      "min predicted_value: 0.00019194929336663336\n",
      "Fold 0 3: 0.21993\n",
      "Epoch 1/3\n",
      "652/652 [==============================] - 4s 6ms/step - loss: 0.2004\n",
      "Epoch 2/3\n",
      "652/652 [==============================] - 4s 6ms/step - loss: 0.2004\n",
      "Epoch 3/3\n",
      "652/652 [==============================] - 4s 7ms/step - loss: 0.2004\n",
      "min predicted_value: 0.00019194929336663336\n",
      "Fold 0 4: 0.2242\n"
     ]
    }
   ],
   "source": [
    "from sklearn.model_selection import GroupKFold\n",
    "counter = 0\n",
    "test_predictions_nn = np.zeros(test.shape[0])\n",
    "max_target = np.max(train['target'])*0.95\n",
    "min_target = np.min(train['target'])*0.9\n",
    "kfold = GroupKFold(n_splits = 5)\n",
    "for fold, (train_ind, val_ind) in enumerate(kfold.split(train, groups=train.time_id)):\n",
    "    num_data = train.loc[train_ind, features]\n",
    "    cat_data = train.loc[train_ind, 'stock_id']\n",
    "    y_train = train.loc[train_ind, 'target']\n",
    "    \n",
    "    num_data_val = train.loc[val_ind, features]\n",
    "    cat_data_val = train.loc[val_ind, 'stock_id']\n",
    "    y_val = train.loc[val_ind, 'target']\n",
    "    \n",
    "    scaler = MinMaxScaler(feature_range=(-1, 1)) \n",
    "    num_data = scaler.fit_transform(num_data.to_numpy())\n",
    "    num_data_val = scaler.transform(num_data_val.to_numpy())\n",
    "    num_data = np.where(np.isnan(num_data), np.nanmean(num_data, axis=0), num_data)\n",
    "    num_data_val = np.where(np.isnan(num_data_val), np.nanmean(num_data_val, axis=0), num_data_val)\n",
    "    model = base_model()\n",
    "    model.compile(\n",
    "        keras.optimizers.Adam(learning_rate=0.006),\n",
    "        loss=root_mean_squared_per_error\n",
    "    )\n",
    "    \n",
    "    \n",
    "    model.fit([cat_data, num_data], \n",
    "              y_train,               \n",
    "              batch_size=1024,\n",
    "              epochs=500,\n",
    "              validation_data=([cat_data_val, num_data_val], y_val),\n",
    "              callbacks=[es, plateau],\n",
    "              validation_batch_size=len(y_val),\n",
    "              shuffle=True,\n",
    "             verbose = 0)\n",
    "    model.fit([cat_data, num_data], y_train, batch_size = 512, epochs = 3)\n",
    "    preds = model.predict([cat_data_val, num_data_val]).reshape(1,-1)[0].clip(min_target, max_target)\n",
    "    print(f\"min predicted_value: {np.min(preds)}\")\n",
    "    score = round(rmspe(y_true = y_val, y_pred = preds),5)\n",
    "    print('Fold {} {}: {}'.format(counter, fold, score))\n",
    "    num_data_test = scaler.transform(test[features].to_numpy())\n",
    "    #print(num_data_test)\n",
    "    num_data_test = np.where(np.isnan(num_data_test), np.nanmean(num_data, axis=0), num_data_test)\n",
    "    #print(num_data_test)\n",
    "    num_data_test = tf.convert_to_tensor(num_data_test, dtype=tf.float32)\n",
    "    cat_test = tf.convert_to_tensor(test['stock_id'].to_numpy(), dtype = tf.int8)\n",
    "    test_predictions_nn += model.predict([test['stock_id'], num_data_test]).reshape(1,-1)[0].clip(min_target, max_target) /5\n",
    "    del model, cat_test, num_data_test\n",
    "    K.clear_session()\n",
    "    gc.collect()"
   ]
  },
  {
   "cell_type": "code",
   "execution_count": 22,
   "id": "17ddd0b0",
   "metadata": {
    "execution": {
     "iopub.execute_input": "2022-03-16T18:44:04.107477Z",
     "iopub.status.busy": "2022-03-16T18:44:04.106096Z",
     "iopub.status.idle": "2022-03-16T18:44:04.124986Z",
     "shell.execute_reply": "2022-03-16T18:44:04.124468Z",
     "shell.execute_reply.started": "2021-09-18T12:19:30.609067Z"
    },
    "papermill": {
     "duration": 0.416596,
     "end_time": "2022-03-16T18:44:04.125119",
     "exception": false,
     "start_time": "2022-03-16T18:44:03.708523",
     "status": "completed"
    },
    "tags": []
   },
   "outputs": [
    {
     "data": {
      "text/html": [
       "<div>\n",
       "<style scoped>\n",
       "    .dataframe tbody tr th:only-of-type {\n",
       "        vertical-align: middle;\n",
       "    }\n",
       "\n",
       "    .dataframe tbody tr th {\n",
       "        vertical-align: top;\n",
       "    }\n",
       "\n",
       "    .dataframe thead th {\n",
       "        text-align: right;\n",
       "    }\n",
       "</style>\n",
       "<table border=\"1\" class=\"dataframe\">\n",
       "  <thead>\n",
       "    <tr style=\"text-align: right;\">\n",
       "      <th></th>\n",
       "      <th>row_id</th>\n",
       "      <th>target</th>\n",
       "    </tr>\n",
       "  </thead>\n",
       "  <tbody>\n",
       "    <tr>\n",
       "      <th>0</th>\n",
       "      <td>0-4</td>\n",
       "      <td>0.002393</td>\n",
       "    </tr>\n",
       "    <tr>\n",
       "      <th>1</th>\n",
       "      <td>0-32</td>\n",
       "      <td>0.003024</td>\n",
       "    </tr>\n",
       "    <tr>\n",
       "      <th>2</th>\n",
       "      <td>0-34</td>\n",
       "      <td>0.003024</td>\n",
       "    </tr>\n",
       "  </tbody>\n",
       "</table>\n",
       "</div>"
      ],
      "text/plain": [
       "  row_id    target\n",
       "0    0-4  0.002393\n",
       "1   0-32  0.003024\n",
       "2   0-34  0.003024"
      ]
     },
     "metadata": {},
     "output_type": "display_data"
    }
   ],
   "source": [
    "test[\"row_id\"] = test[\"stock_id\"].astype(str) + \"-\" + test[\"time_id\"].astype(str) \n",
    "test[target_name] = test_predictions_nn\n",
    "\n",
    "\n",
    "display(test[['row_id', target_name]].head(3))\n",
    "test[['row_id', target_name]].to_csv('submission.csv',index = False)\n",
    "#test[['row_id', target_name]].to_csv('submission.csv',index = False)\n",
    "#kmeans N=5 [0.2101, 0.21399, 0.20923, 0.21398, 0.21175]"
   ]
  },
  {
   "cell_type": "code",
   "execution_count": null,
   "id": "a065caf1",
   "metadata": {
    "papermill": {
     "duration": 0.546073,
     "end_time": "2022-03-16T18:44:05.057176",
     "exception": false,
     "start_time": "2022-03-16T18:44:04.511103",
     "status": "completed"
    },
    "tags": []
   },
   "outputs": [],
   "source": []
  }
 ],
 "metadata": {
  "kernelspec": {
   "display_name": "Python 3",
   "language": "python",
   "name": "python3"
  },
  "language_info": {
   "codemirror_mode": {
    "name": "ipython",
    "version": 3
   },
   "file_extension": ".py",
   "mimetype": "text/x-python",
   "name": "python",
   "nbconvert_exporter": "python",
   "pygments_lexer": "ipython3",
   "version": "3.7.10"
  },
  "papermill": {
   "default_parameters": {},
   "duration": 4719.052668,
   "end_time": "2022-03-16T18:44:07.324044",
   "environment_variables": {},
   "exception": null,
   "input_path": "__notebook__.ipynb",
   "output_path": "__notebook__.ipynb",
   "parameters": {},
   "start_time": "2022-03-16T17:25:28.271376",
   "version": "2.3.3"
  }
 },
 "nbformat": 4,
 "nbformat_minor": 5
}
